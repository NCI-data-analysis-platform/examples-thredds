{
 "cells": [
  {
   "cell_type": "markdown",
   "metadata": {},
   "source": [
    "# Exploring the THREDDS catalog with Siphon\n",
    "\n",
    "\n",
    "This notebook shows ways to list all the data collection, sub-collections, datasets and files from NCI's THREDDS service portal. \n",
    "\n",
    "* Siphon\n",
    "* Extracts the catalog\n",
    "* List data collections\n",
    "* List datasets\n",
    "* List files\n",
    "\n",
    "---\n"
   ]
  },
  {
   "cell_type": "markdown",
   "metadata": {},
   "source": [
    "- Authors: NCI Virtual Research Environment Team\n",
    "- Keywords: THREDDS, Siphon, datasets, data collection\n",
    "- Create Date: 2020-Jul\n",
    "\n",
    "---\n"
   ]
  },
  {
   "cell_type": "markdown",
   "metadata": {},
   "source": [
    "### Siphon\n",
    "\n",
    "[Siphon](http://siphon.readthedocs.io/en/latest/) is a Python module for accessing data hosted on a THREDDS data server. Siphon works by parsing the catalog XML and exposing it with higher level functions.\n",
    "\n",
    "In this notebook we will explore data available on the NCI data access portal THREDDS."
   ]
  },
  {
   "cell_type": "markdown",
   "metadata": {},
   "source": [
    " The cell below extracts the catalog information."
   ]
  },
  {
   "cell_type": "code",
   "execution_count": 1,
   "metadata": {},
   "outputs": [
    {
     "name": "stdout",
     "output_type": "stream",
     "text": [
      "\n",
      "Catalog information\n",
      "-------------------\n",
      "\n",
      "Base THREDDS URL: http://dapds00.nci.org.au\n",
      "Catalog name: THREDDS Master Catalog\n",
      "Catalog URL: http://dapds00.nci.org.au/thredds/catalog.xml\n",
      "Metadata: {}\n",
      "\n"
     ]
    }
   ],
   "source": [
    "from siphon.catalog import TDSCatalog\n",
    "\n",
    "catalog = TDSCatalog(\"http://dapds00.nci.org.au/thredds/catalog.xml\")\n",
    "\n",
    "\n",
    "info = \"\"\"\n",
    "Catalog information\n",
    "-------------------\n",
    "\n",
    "Base THREDDS URL: {}\n",
    "Catalog name: {}\n",
    "Catalog URL: {}\n",
    "Metadata: {}\n",
    "\"\"\".format(\n",
    "    catalog.base_tds_url, catalog.catalog_name, catalog.catalog_url, catalog.metadata\n",
    ")\n",
    "\n",
    "print(info)"
   ]
  },
  {
   "cell_type": "markdown",
   "metadata": {},
   "source": [
    "Get supported resultType’s:"
   ]
  },
  {
   "cell_type": "code",
   "execution_count": 2,
   "metadata": {},
   "outputs": [
    {
     "name": "stdout",
     "output_type": "stream",
     "text": [
      "all\n",
      "licenses\n"
     ]
    }
   ],
   "source": [
    "for service in catalog.services:\n",
    "    print(service.name)"
   ]
  },
  {
   "cell_type": "markdown",
   "metadata": {},
   "source": [
    "What datasets are there?"
   ]
  },
  {
   "cell_type": "code",
   "execution_count": 3,
   "metadata": {},
   "outputs": [
    {
     "name": "stdout",
     "output_type": "stream",
     "text": [
      "License and README files\n",
      "3D Geological models of Australia\n",
      "ANU Water and Landscape Dynamics\n",
      "ARC Centre of Excellence - CLEX and ARCCSS Publication Data\n",
      "ASTER maps of Australia\n",
      "Aus400 Weather Simulations\n",
      "Australian Bathymetry Reference Data\n",
      "Australian Climate Observations Reference Network\n",
      "Australian Marine Video and Imagery Data\n",
      "Australian Natural Hazards Data archive\n",
      "Australian Regional Copernicus Data Hub - Sentinel-1,2,3\n",
      "Australian Research Radar Archive\n",
      "Bureau of Meteorology - CAWCR - POAMA Data Catalog using a Legacy Structure\n",
      "Bureau of Meteorology Observations Data\n",
      "Bureau of Meteorology Ocean-Marine Reference Data\n",
      "Bureau of Meteorology Seasonal Prediction Data\n",
      "CMIP5/NRM\n",
      "COSIMA Model Output\n",
      "Decadal Forecast Project\n",
      "eMAST TERN\n",
      "eReefs GBR Model Data\n",
      "ESGF Australian Data - CMIP5, GeoMIP, PMIP3, CORDEX\n",
      "ESGF Australian Data - CMIP6\n",
      "GA Earth Observations - Data\n",
      "GA Earth Observations - Derived\n",
      "Geoscience Australia Geophysics Reference Data Collection\n",
      "Geoscience Australia Landsat Analysis Ready Data Collection 3\n",
      "Geodesy GNSS Data Archive\n",
      "GeoGLAM\n",
      "Geophysics reference data\n",
      "GSWA Geophysics Data\n",
      "HAIC-HIWC Project 2014\n",
      "IMOS and TERN-AusCover Satellite Products\n",
      "Marine Virtual Laboratory Collection\n",
      "MH370 Phase 1 Data\n",
      "MH370 Phase 2 Data\n",
      "National CT-lab Tomography Data\n",
      "National Remote Sensing Processing Facility - metadata\n",
      "OFAM - Ocean Forecasting Australia Model\n",
      "Operational Weather Radar Network Archive\n",
      "Sentinel-2 Analysis Ready Data\n",
      "The University of Adelaide Magnetotellurics Data\n",
      "NCI test\n"
     ]
    }
   ],
   "source": [
    "print(\"\\n\".join(catalog.catalog_refs.keys()))"
   ]
  },
  {
   "cell_type": "markdown",
   "metadata": {},
   "source": [
    "### Look into a detailed thredds catalogue of CMIP6 sub-collection ACCESS-ESM1.5"
   ]
  },
  {
   "cell_type": "markdown",
   "metadata": {},
   "source": [
    "Extract datasets information: "
   ]
  },
  {
   "cell_type": "code",
   "execution_count": 4,
   "metadata": {},
   "outputs": [
    {
     "name": "stdout",
     "output_type": "stream",
     "text": [
      "1pctCO2\n",
      "abrupt-4xCO2\n",
      "amip\n",
      "esm-hist\n",
      "esm-piControl\n",
      "historical\n",
      "piControl\n"
     ]
    }
   ],
   "source": [
    "cat = TDSCatalog(\"http://dapds00.nci.org.au/thredds/catalog/fs38/publications/CMIP6/CMIP/CSIRO/ACCESS-ESM1-5/catalog.xml\")\n",
    "print(\"\\n\".join(cat.catalog_refs.keys()))"
   ]
  },
  {
   "cell_type": "markdown",
   "metadata": {},
   "source": [
    "### Look into a CMIP6 dataset \n",
    "\n",
    "Notes: when drilling down to the file level, `datasets` should be used instead of `catalog_refs`."
   ]
  },
  {
   "cell_type": "code",
   "execution_count": 5,
   "metadata": {},
   "outputs": [
    {
     "name": "stdout",
     "output_type": "stream",
     "text": [
      "pr_3hr_ACCESS-ESM1-5_historical_r1i1p1f1_gn_196001010130-196912312230.nc\n",
      "pr_3hr_ACCESS-ESM1-5_historical_r1i1p1f1_gn_197001010130-197912312230.nc\n",
      "pr_3hr_ACCESS-ESM1-5_historical_r1i1p1f1_gn_198001010130-198912312230.nc\n",
      "pr_3hr_ACCESS-ESM1-5_historical_r1i1p1f1_gn_199001010130-199912312230.nc\n",
      "pr_3hr_ACCESS-ESM1-5_historical_r1i1p1f1_gn_200001010130-200912312230.nc\n",
      "pr_3hr_ACCESS-ESM1-5_historical_r1i1p1f1_gn_201001010130-201412312230.nc\n"
     ]
    }
   ],
   "source": [
    "cat = TDSCatalog(\"http://dapds00.nci.org.au/thredds/catalog/fs38/publications/CMIP6/CMIP/CSIRO/ACCESS-ESM1-5/historical/r1i1p1f1/3hr/pr/gn/latest/catalog.xml\")\n",
    "print(\"\\n\".join(cat.datasets.keys()))"
   ]
  },
  {
   "cell_type": "markdown",
   "metadata": {},
   "source": [
    "<div class=\"alert alert-info\">\n",
    "<b>Notes: </b> This function is useful especially when you want to programmatically access/download the data.\n",
    "</div>"
   ]
  },
  {
   "cell_type": "markdown",
   "metadata": {},
   "source": [
    "### Summery\n",
    "\n",
    "We demonstrate how to use Siphon to get a list of datasets from NCI's THREDDS service portal."
   ]
  }
 ],
 "metadata": {
  "kernelspec": {
   "display_name": "Python 3",
   "language": "python",
   "name": "python3"
  },
  "language_info": {
   "codemirror_mode": {
    "name": "ipython",
    "version": 3
   },
   "file_extension": ".py",
   "mimetype": "text/x-python",
   "name": "python",
   "nbconvert_exporter": "python",
   "pygments_lexer": "ipython3",
   "version": "3.7.4"
  }
 },
 "nbformat": 4,
 "nbformat_minor": 4
}
