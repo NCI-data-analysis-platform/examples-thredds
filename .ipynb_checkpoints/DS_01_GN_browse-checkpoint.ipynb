{
 "cells": [
  {
   "cell_type": "markdown",
   "metadata": {},
   "source": [
    "# Browse for Data and Direct Download from THREDDS Data Service\n",
    "\n",
    "\n",
    "This notebook shows how to browse NCI's geonetwork data collection catalogue and directly download a file from THREDDS data service. \n",
    "\n",
    "* Browse GeoNetwork\n",
    "* Search for CMIP6\n",
    "* Search for Himawari-8\n",
    "* Download a file\n",
    "\n",
    "---\n"
   ]
  },
  {
   "cell_type": "markdown",
   "metadata": {},
   "source": [
    "- Authors: NCI Virtual Research Environment Team\n",
    "- Keywords: geonetwork, data query, search, download\n",
    "- Create Date: 2020-Jul\n",
    "    \n",
    "---\n"
   ]
  },
  {
   "cell_type": "markdown",
   "metadata": {},
   "source": [
    "### Browse for CMIP6 data collection\n",
    "\n",
    "Begin by going to NCI's Geonetwork page: https://geonetwork.nci.org.au/\n",
    "\n",
    "This page contains the metadata information for NCI Data Collections as well as URLs of data services where you can access the data.\n",
    "\n",
    "![](images/gn1_cmip6.png)\n",
    "\n",
    "In this session, we search for CMIP6 data. The `CMIP` records pop up immediately in the drop down list:\n",
    "\n",
    "![](images/gn2_cmip6.png)\n",
    "\n",
    "Choose `CESS-CM2 model output prepared for CMIP6`, click `search` button. \n",
    "\n",
    "![](images/gn3_cmip6.png)\n",
    "\n",
    "Click the record with title `ACCESS-CM2 model output prepared for CMIP6`, we see a brief overview of the metadata record, such as \n",
    "\n",
    "* abstract\n",
    "* the link to join the project via [NCI's user account management system](https://my.nci.org.au)\n",
    "* local file path at NCI's global file system\n",
    "\n",
    "Note: CMIP6 has been published on THREDDS. However the THREDDS URLs are not yet updated in the geonetwork records (as of 21 July 2020). You might see the links available at a later date.\n",
    "\n",
    "![](images/gn4_cmip6.png)\n",
    "\n",
    "Keep scrolling down, there are a number of child records associated with this CMIP6 data collection. \n",
    "\n",
    "![](images/gn5_cmip6.png)\n"
   ]
  },
  {
   "cell_type": "markdown",
   "metadata": {},
   "source": [
    "### Browse for Himawari-8 data colllection\n",
    "\n"
   ]
  },
  {
   "cell_type": "markdown",
   "metadata": {},
   "source": [
    "\n",
    "Type `Himawari-8` in the searching box:\n",
    "\n",
    "![](images/gn1_himawari8.png)\n",
    "\n",
    "Find one record:\n",
    "\n",
    "![](images/gn2_himawari8.png)\n",
    "\n",
    "Since the data is available through NCI's data service THREDDS, the URLs of NCI THREDDS Data Server exist in this record:\n",
    "\n",
    "![](images/gn3_himawari8.png)\n",
    "\n",
    "Now click `Open link` of NCI THREDDS Data Server (Himawari-8 data):\n",
    "\n",
    "![](images/gn4_himawari8.png)\n",
    "\n",
    "Himawari-8 data collection updates on a daily basis. Let's pick the most recent date while creating this example:\n",
    "\n",
    "![](images/gn5_himawari8.png)"
   ]
  },
  {
   "cell_type": "markdown",
   "metadata": {},
   "source": [
    "### Direct download a file from THREDDS\n"
   ]
  },
  {
   "cell_type": "markdown",
   "metadata": {},
   "source": [
    "To download the file, click the link titled: **HTTPServer** and the download should commence. \n",
    "\n",
    "![](images/gn6_himawari8.png)\n",
    "\n",
    "Note: we will cover how to use other THREDDS data service options in seperate examples."
   ]
  }
 ],
 "metadata": {
  "anaconda-cloud": {},
  "kernelspec": {
   "display_name": "Python 3",
   "language": "python",
   "name": "python3"
  },
  "language_info": {
   "codemirror_mode": {
    "name": "ipython",
    "version": 3
   },
   "file_extension": ".py",
   "mimetype": "text/x-python",
   "name": "python",
   "nbconvert_exporter": "python",
   "pygments_lexer": "ipython3",
   "version": "3.7.4"
  }
 },
 "nbformat": 4,
 "nbformat_minor": 4
}
