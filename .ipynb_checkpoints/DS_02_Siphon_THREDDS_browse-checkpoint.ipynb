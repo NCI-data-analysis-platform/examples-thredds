{
 "cells": [
  {
   "cell_type": "markdown",
   "metadata": {},
   "source": [
    "# Search records from a CSW catalog\n",
    "\n",
    "\n",
    "This notebook shows a typical workflow to query a Catalog Service for the Web (CSW) and create a request for data endpoints that are suitable for download.\n",
    "\n",
    "* CSW and CSWLib\n",
    "* Create filter_list\n",
    "* Query NCI's geonetwork records\n",
    "* Fetch data catalogue information \n",
    "\n",
    "---\n"
   ]
  },
  {
   "cell_type": "markdown",
   "metadata": {},
   "source": [
    "- Authors: NCI Virtual Research Environment Team\n",
    "- Keywords: CSW, geonetwork, data query, search\n",
    "- Create Date: 2020-Jun\n",
    "- Lineage/Reference: This tutorial is developed based on [IOOS data fetching tutorial](https://ioos.github.io/notebooks_demos/notebooks/2017-12-15-finding_HFRadar_currents/).\n",
    "\n",
    "---\n"
   ]
  },
  {
   "cell_type": "markdown",
   "metadata": {},
   "source": [
    "### About CSW and OWSLib\n",
    "\n",
    "[Catalogue Service for the Web (CSW)](https://en.wikipedia.org/wiki/Catalogue_Service_for_the_Web) is a standard for exposing a catalogue of geospatial records in XML on the Internet (over HTTP). The catalogue is made up of records that describe geospatial data (e.g. KML), geospatial services (e.g. WMS), and related resources.\n",
    "\n",
    "OWSLib is a Python package for client programming with Open Geospatial Consortium (OGC) web service (hence OWS) interface standards, and their related content models."
   ]
  },
  {
   "cell_type": "markdown",
   "metadata": {},
   "source": [
    "Below we created a `csw` object:"
   ]
  },
  {
   "cell_type": "code",
   "execution_count": 1,
   "metadata": {},
   "outputs": [
    {
     "data": {
      "text/plain": [
       "'CSW'"
      ]
     },
     "execution_count": 1,
     "metadata": {},
     "output_type": "execute_result"
    }
   ],
   "source": [
    "from owslib.csw import CatalogueServiceWeb\n",
    "endpoint = \"http://geonetwork.nci.org.au/geonetwork/srv/eng/csw\"\n",
    "csw = CatalogueServiceWeb(endpoint, timeout=60)\n",
    "csw.identification.type"
   ]
  },
  {
   "cell_type": "markdown",
   "metadata": {},
   "source": [
    "Get supported resultType’s:"
   ]
  },
  {
   "cell_type": "code",
   "execution_count": 2,
   "metadata": {},
   "outputs": [
    {
     "data": {
      "text/plain": [
       "['GetCapabilities',\n",
       " 'DescribeRecord',\n",
       " 'GetDomain',\n",
       " 'GetRecords',\n",
       " 'GetRecordById',\n",
       " 'Transaction',\n",
       " 'Harvest']"
      ]
     },
     "execution_count": 2,
     "metadata": {},
     "output_type": "execute_result"
    }
   ],
   "source": [
    "[op.name for op in csw.operations]"
   ]
  },
  {
   "cell_type": "markdown",
   "metadata": {},
   "source": [
    "### Create filter list\n",
    "\n",
    "    Now we create a `filter_list`, bounding box and search words using `owslib.fes`."
   ]
  },
  {
   "cell_type": "code",
   "execution_count": 3,
   "metadata": {},
   "outputs": [],
   "source": [
    "from owslib import fes\n",
    "from owslib.fes import PropertyIsEqualTo, PropertyIsLike, BBox\n",
    "\n",
    "# Region: Australia.\n",
    "min_lon, max_lon = 110, 160\n",
    "min_lat, max_lat = -45, -5\n",
    "\n",
    "bbox = [min_lon, min_lat, max_lon, max_lat]\n",
    "\n",
    "# searching words\n",
    "words = [\n",
    "    \"dataset\",\n",
    "    \"climate\",\n",
    "    \"CMIP\"\n",
    "]\n",
    "\n",
    "kw = dict(wildCard=\"*\", escapeChar=\"\\\\\", singleChar=\"?\", propertyname=\"apiso:AnyText\")\n",
    "\n",
    "or_filt = fes.And([fes.PropertyIsEqualTo('csw:AnyText',f'{val}') for val in words])\n",
    "\n",
    "bbox = fes.BBox(bbox)\n",
    "\n",
    "filter_list = [\n",
    "    fes.And(\n",
    "        [\n",
    "            bbox,  # bounding box\n",
    "            or_filt,  # or conditions (searching words)\n",
    "        ]\n",
    "    )\n",
    "]"
   ]
  },
  {
   "cell_type": "markdown",
   "metadata": {},
   "source": [
    "### Query NCI's geonetwork records"
   ]
  },
  {
   "cell_type": "markdown",
   "metadata": {},
   "source": [
    "Below we create a `get_csw_records` function that calls the OSWLib method `getrecords2` iteratively to retrieve all the records matching the search criteria specified by the `filter_list`."
   ]
  },
  {
   "cell_type": "code",
   "execution_count": 5,
   "metadata": {},
   "outputs": [],
   "source": [
    "def get_csw_records(csw, filter_list, pagesize=10, maxrecords=1000):\n",
    "    \"\"\"Iterate `maxrecords`/`pagesize` times until the requested value in\n",
    "    `maxrecords` is reached.\n",
    "    \"\"\"\n",
    "    from owslib.fes import SortBy, SortProperty\n",
    "\n",
    "    # Iterate over sorted results.\n",
    "    sortby = SortBy([SortProperty(\"dc:title\")])\n",
    "    csw_records = {}\n",
    "    startposition = 0\n",
    "    nextrecord = getattr(csw, \"results\", 1)\n",
    "    while nextrecord != 0:\n",
    "        csw.getrecords2(\n",
    "            constraints=filter_list,\n",
    "            startposition=startposition,\n",
    "            maxrecords=pagesize,\n",
    "            sortby=sortby,\n",
    "        )\n",
    "        csw_records.update(csw.records)\n",
    "        if csw.results[\"nextrecord\"] == 0:\n",
    "            break\n",
    "        startposition += pagesize + 1  # Last one is included.\n",
    "        if startposition >= maxrecords:\n",
    "            break\n",
    "    csw.records.update(csw_records)"
   ]
  },
  {
   "cell_type": "markdown",
   "metadata": {},
   "source": [
    "The query result is a record list which satisfying all the filtering conditions."
   ]
  },
  {
   "cell_type": "code",
   "execution_count": 6,
   "metadata": {},
   "outputs": [
    {
     "name": "stdout",
     "output_type": "stream",
     "text": [
      "Found 49 records.\n",
      "\n",
      "[CSIRO-Mk3-6-0 model output prepared for CMIP5 rcp26]\n",
      "f6946_9470_6588_4731\n",
      "\n",
      "[CSIRO-Mk3-6-0 model output prepared for CMIP5 rcp45]\n",
      "f5323_9527_2057_9046\n",
      "\n",
      "[CSIRO-Mk3-6-0 model output prepared for CMIP5 rcp60]\n",
      "f4615_6545_5514_4988\n",
      "\n",
      "[CSIRO-Mk3-6-0 model output prepared for CMIP5 rcp85]\n",
      "f9566_7417_8270_9939\n",
      "\n",
      "[CSIRO-Mk3-6-0 model output prepared for CMIP5 sstClim]\n",
      "f4638_7453_4754_4897\n",
      "\n",
      "[CSIRO-Mk3-6-0 model output prepared for CMIP5 sstClim4xCO2]\n",
      "f5198_1503_3359_1997\n",
      "\n",
      "[CSIRO-Mk3-6-0 model output prepared for CMIP5 sstClimAerosol]\n",
      "f7310_7948_2407_3802\n",
      "\n",
      "[CSIRO-Mk3-6-0 model output prepared for CMIP5 sstClimSulfate]\n",
      "f9974_7123_7418_9226\n",
      "\n",
      "[Earth System Grid Federation (ESGF) Australian CMIP6-era Datasets]\n",
      "f3154_9976_7262_7595\n",
      "\n",
      "[ACCESS1-0 model output prepared for CMIP5 1pctCO2]\n",
      "f1126_7442_2531_9007\n",
      "\n",
      "[ACCESS1-0 model output prepared for CMIP5 abrupt4xCO2]\n",
      "f6709_3440_4100_9566\n",
      "\n",
      "[ACCESS1-0 model output prepared for CMIP5 amip]\n",
      "f3614_5840_1226_9615\n",
      "\n",
      "[ACCESS1-0 model output prepared for CMIP5 historical]\n",
      "f3187_2606_9930_4751\n",
      "\n",
      "[ACCESS1-0 model output prepared for CMIP5 historicalExt]\n",
      "f6722_7801_2087_2158\n",
      "\n",
      "[ACCESS1-0 model output prepared for CMIP5 piControl]\n",
      "f2223_9079_7785_3071\n",
      "\n",
      "[ACCESS1-0 model output prepared for CMIP5 rcp45]\n",
      "f8300_6211_2994_1736\n",
      "\n",
      "[ACCESS1-0 model output prepared for CMIP5 rcp85]\n",
      "f3446_7648_10000_750\n",
      "\n",
      "[ACCESS1-3 model output prepared for CMIP5 1pctCO2]\n",
      "f2470_7608_6064_2841\n",
      "\n",
      "[ACCESS1-3 model output prepared for CMIP5 abrupt4xCO2]\n",
      "f2116_3836_9621_7009\n",
      "\n",
      "[ACCESS1-3 model output prepared for CMIP5 amip]\n",
      "f5956_7503_6028_7510\n",
      "\n",
      "[ACCESS1-3 model output prepared for CMIP5 historical]\n",
      "f4474_2194_8363_3599\n",
      "\n",
      "[ACCESS1-3 model output prepared for CMIP5 historicalExt (Version 2015)]\n",
      "f4642_3219_1692_4900\n",
      "\n",
      "[ACCESS1-3 model output prepared for CMIP5 historicalGHG (Version 2015)]\n",
      "f2337_2674_2774_8276\n",
      "\n",
      "[ACCESS1-3 model output prepared for CMIP5 historicalNat (Version 2015)]\n",
      "f9659_7404_5147_5011\n",
      "\n",
      "[ACCESS1-3 model output prepared for CMIP5 piControl]\n",
      "f7049_4967_9772_7609\n",
      "\n",
      "[ACCESS1-3 model output prepared for CMIP5 rcp45]\n",
      "f3094_5136_1742_9946\n",
      "\n",
      "[ACCESS1-3 model output prepared for CMIP5 rcp85]\n",
      "f8365_7350_5227_1096\n",
      "\n",
      "[ACCESS1-3 model output prepared for CMIP5 sstClim (Version 2015)]\n",
      "f7231_8413_4946_1642\n",
      "\n",
      "[ACCESS1-3 model output prepared for CMIP5 sstClim4xCO2 (Version 2015)]\n",
      "f7893_4692_5295_1580\n",
      "\n",
      "[ACCESS1-3 model output prepared for CMIP5 sstClimSulfate (Version 2015)]\n",
      "f8921_4714_4885_8281\n",
      "\n",
      "[ACCESS-CM2 model output prepared for CMIP6]\n",
      "f1481_6421_2540_3569\n",
      "\n",
      "[ACCESS-CM2 model output prepared for CMIP6 1pctCO2]\n",
      "f9538_6581_7090_5390\n",
      "\n",
      "[ACCESS-CM2 model output prepared for CMIP6 abrupt-4xCO2]\n",
      "f5749_8390_8024_9129\n",
      "\n",
      "[ACCESS-CM2 model output prepared for CMIP6 amip]\n",
      "f8372_7043_9223_1455\n",
      "\n",
      "[ACCESS-CM2 model output prepared for CMIP6 historical]\n",
      "f8322_3125_8925_0960\n",
      "\n",
      "[ACCESS-CM2 model output prepared for CMIP6 piControl]\n",
      "f3479_2812_7920_9880\n",
      "\n",
      "[ACCESS-CM2 model output prepared for CMIP6 ssp126]\n",
      "f9597_1139_0834_8237\n",
      "\n",
      "[ACCESS-CM2 model output prepared for CMIP6 ssp245]\n",
      "f0161_5385_7982_2119\n",
      "\n",
      "[ACCESS-CM2 model output prepared for CMIP6 ssp370]\n",
      "f7722_0806_8155_8999\n",
      "\n",
      "[Area-extent of temperature and precipitation extremes in CMIP5 models under different radiative forcing scenarios, observations and reanalysis v1-0]\n",
      "f8298_9729_9476_1124\n",
      "\n",
      "[Coupled Model Intercomparison Project (CMIP5)]\n",
      "f3525_9322_8600_7716\n",
      "\n",
      "[CSIRO-Mk3-6-0 model output prepared for CMIP5 1pctCO2]\n",
      "f5104_8755_8082_1139\n",
      "\n",
      "[CSIRO-Mk3-6-0 model output prepared for CMIP5 abrupt4xCO2]\n",
      "f7492_6391_2169_6011\n",
      "\n",
      "[CSIRO-Mk3-6-0 model output prepared for CMIP5 amip]\n",
      "f7041_9211_4946_5025\n",
      "\n",
      "[CSIRO-Mk3-6-0 model output prepared for CMIP5 historical]\n",
      "f3672_1534_2351_3207\n",
      "\n",
      "[CSIRO-Mk3-6-0 model output prepared for CMIP5 historicalGHG]\n",
      "f8965_7881_4235_8476\n",
      "\n",
      "[CSIRO-Mk3-6-0 model output prepared for CMIP5 historicalMisc]\n",
      "f1311_8586_7758_3331\n",
      "\n",
      "[CSIRO-Mk3-6-0 model output prepared for CMIP5 historicalNat]\n",
      "f4189_4456_7483_1658\n",
      "\n",
      "[CSIRO-Mk3-6-0 model output prepared for CMIP5 midHolocene]\n",
      "f4868_5048_8964_3522\n",
      "\n"
     ]
    }
   ],
   "source": [
    "get_csw_records(csw, filter_list, pagesize=10, maxrecords=1000)\n",
    "\n",
    "records = \"\\n\".join(csw.records.keys())\n",
    "print(\"Found {} records.\\n\".format(len(csw.records.keys())))\n",
    "for key, value in list(csw.records.items()):\n",
    "    print(u\"[{}]\\n{}\\n\".format(value.title, key))"
   ]
  },
  {
   "cell_type": "markdown",
   "metadata": {},
   "source": [
    "Now, to further narrow down the searching criteria, one can filter by a string. For example, search CMIP datasets which are published through THREDDS."
   ]
  },
  {
   "cell_type": "code",
   "execution_count": 7,
   "metadata": {},
   "outputs": [
    {
     "name": "stdout",
     "output_type": "stream",
     "text": [
      "Found 38 records.\n",
      "\n",
      "[CSIRO-Mk3-6-0 model output prepared for CMIP5 rcp26]\n",
      "f6946_9470_6588_4731\n",
      "\n",
      "[CSIRO-Mk3-6-0 model output prepared for CMIP5 rcp45]\n",
      "f5323_9527_2057_9046\n",
      "\n",
      "[CSIRO-Mk3-6-0 model output prepared for CMIP5 rcp60]\n",
      "f4615_6545_5514_4988\n",
      "\n",
      "[CSIRO-Mk3-6-0 model output prepared for CMIP5 rcp85]\n",
      "f9566_7417_8270_9939\n",
      "\n",
      "[CSIRO-Mk3-6-0 model output prepared for CMIP5 sstClim]\n",
      "f4638_7453_4754_4897\n",
      "\n",
      "[CSIRO-Mk3-6-0 model output prepared for CMIP5 sstClim4xCO2]\n",
      "f5198_1503_3359_1997\n",
      "\n",
      "[CSIRO-Mk3-6-0 model output prepared for CMIP5 sstClimAerosol]\n",
      "f7310_7948_2407_3802\n",
      "\n",
      "[CSIRO-Mk3-6-0 model output prepared for CMIP5 sstClimSulfate]\n",
      "f9974_7123_7418_9226\n",
      "\n",
      "[ACCESS1-0 model output prepared for CMIP5 1pctCO2]\n",
      "f1126_7442_2531_9007\n",
      "\n",
      "[ACCESS1-0 model output prepared for CMIP5 abrupt4xCO2]\n",
      "f6709_3440_4100_9566\n",
      "\n",
      "[ACCESS1-0 model output prepared for CMIP5 amip]\n",
      "f3614_5840_1226_9615\n",
      "\n",
      "[ACCESS1-0 model output prepared for CMIP5 historical]\n",
      "f3187_2606_9930_4751\n",
      "\n",
      "[ACCESS1-0 model output prepared for CMIP5 historicalExt]\n",
      "f6722_7801_2087_2158\n",
      "\n",
      "[ACCESS1-0 model output prepared for CMIP5 piControl]\n",
      "f2223_9079_7785_3071\n",
      "\n",
      "[ACCESS1-0 model output prepared for CMIP5 rcp45]\n",
      "f8300_6211_2994_1736\n",
      "\n",
      "[ACCESS1-0 model output prepared for CMIP5 rcp85]\n",
      "f3446_7648_10000_750\n",
      "\n",
      "[ACCESS1-3 model output prepared for CMIP5 1pctCO2]\n",
      "f2470_7608_6064_2841\n",
      "\n",
      "[ACCESS1-3 model output prepared for CMIP5 abrupt4xCO2]\n",
      "f2116_3836_9621_7009\n",
      "\n",
      "[ACCESS1-3 model output prepared for CMIP5 amip]\n",
      "f5956_7503_6028_7510\n",
      "\n",
      "[ACCESS1-3 model output prepared for CMIP5 historical]\n",
      "f4474_2194_8363_3599\n",
      "\n",
      "[ACCESS1-3 model output prepared for CMIP5 historicalExt (Version 2015)]\n",
      "f4642_3219_1692_4900\n",
      "\n",
      "[ACCESS1-3 model output prepared for CMIP5 historicalGHG (Version 2015)]\n",
      "f2337_2674_2774_8276\n",
      "\n",
      "[ACCESS1-3 model output prepared for CMIP5 historicalNat (Version 2015)]\n",
      "f9659_7404_5147_5011\n",
      "\n",
      "[ACCESS1-3 model output prepared for CMIP5 piControl]\n",
      "f7049_4967_9772_7609\n",
      "\n",
      "[ACCESS1-3 model output prepared for CMIP5 rcp45]\n",
      "f3094_5136_1742_9946\n",
      "\n",
      "[ACCESS1-3 model output prepared for CMIP5 rcp85]\n",
      "f8365_7350_5227_1096\n",
      "\n",
      "[ACCESS1-3 model output prepared for CMIP5 sstClim (Version 2015)]\n",
      "f7231_8413_4946_1642\n",
      "\n",
      "[ACCESS1-3 model output prepared for CMIP5 sstClim4xCO2 (Version 2015)]\n",
      "f7893_4692_5295_1580\n",
      "\n",
      "[ACCESS1-3 model output prepared for CMIP5 sstClimSulfate (Version 2015)]\n",
      "f8921_4714_4885_8281\n",
      "\n",
      "[Area-extent of temperature and precipitation extremes in CMIP5 models under different radiative forcing scenarios, observations and reanalysis v1-0]\n",
      "f8298_9729_9476_1124\n",
      "\n",
      "[CSIRO-Mk3-6-0 model output prepared for CMIP5 1pctCO2]\n",
      "f5104_8755_8082_1139\n",
      "\n",
      "[CSIRO-Mk3-6-0 model output prepared for CMIP5 abrupt4xCO2]\n",
      "f7492_6391_2169_6011\n",
      "\n",
      "[CSIRO-Mk3-6-0 model output prepared for CMIP5 amip]\n",
      "f7041_9211_4946_5025\n",
      "\n",
      "[CSIRO-Mk3-6-0 model output prepared for CMIP5 historical]\n",
      "f3672_1534_2351_3207\n",
      "\n",
      "[CSIRO-Mk3-6-0 model output prepared for CMIP5 historicalGHG]\n",
      "f8965_7881_4235_8476\n",
      "\n",
      "[CSIRO-Mk3-6-0 model output prepared for CMIP5 historicalMisc]\n",
      "f1311_8586_7758_3331\n",
      "\n",
      "[CSIRO-Mk3-6-0 model output prepared for CMIP5 historicalNat]\n",
      "f4189_4456_7483_1658\n",
      "\n",
      "[CSIRO-Mk3-6-0 model output prepared for CMIP5 midHolocene]\n",
      "f4868_5048_8964_3522\n",
      "\n"
     ]
    }
   ],
   "source": [
    "filter_list = [\n",
    "    fes.And(\n",
    "        [\n",
    "            bbox,  # bounding box\n",
    "            or_filt,  # or conditions (searching words)\n",
    "            fes.PropertyIsLike(literal=\"*THREDDS*\", **kw),  # must have THREDDS\n",
    "        ]\n",
    "    )\n",
    "]\n",
    "get_csw_records(csw, filter_list, pagesize=10, maxrecords=1000)\n",
    "\n",
    "records = \"\\n\".join(csw.records.keys())\n",
    "print(\"Found {} records.\\n\".format(len(csw.records.keys())))\n",
    "for key, value in list(csw.records.items()):\n",
    "    print(\"[{}]\\n{}\\n\".format(value.title, key))"
   ]
  },
  {
   "cell_type": "markdown",
   "metadata": {},
   "source": [
    "Now we got fewer records. Those records shows the CMIP datasets that are available through THREDDS.\n",
    "\n",
    "### Fetch data catalogue information \n",
    "\n",
    "The easiest way to get more information is to explorer the individual records. Here is the abstract and subjects from ACCESS1-0 model output prepared for CMIP5 historical."
   ]
  },
  {
   "cell_type": "code",
   "execution_count": 8,
   "metadata": {},
   "outputs": [
    {
     "name": "stdout",
     "output_type": "stream",
     "text": [
      "historical is an experiment of the CMIP5 - Coupled Model\n",
      "Intercomparison Project Phase 5 (http://cmip-pcmdi.llnl.gov/cmip5/).\n",
      "CMIP5 is meant to provide a framework for coordinated climate change\n",
      "experiments for the next five years and thus includes simulations for\n",
      "assessment in the AR5 as well as others that extend beyond the AR5.\n",
      "3.2 historical (3.2 Historical) - Version 1: Simulation of recent past\n",
      "(1850 to 2005). Impose changing conditions (consistent with\n",
      "observations).  Experiment design: http://cmip-\n",
      "pcmdi.llnl.gov/cmip5/docs/Taylor_CMIP5_design.pdf List of output\n",
      "variables: http://cmip-pcmdi.llnl.gov/cmip5/docs/standard_output.pdf\n",
      "Output: time series per variable in model grid spatial resolution in\n",
      "netCDF format Earth System model and the simulation information: CIM\n",
      "repository  Entry name/title of data are specified according to the\n",
      "Data Reference Syntax (http://cmip-\n",
      "pcmdi.llnl.gov/cmip5/docs/cmip5_data_reference_syntax.pdf) as\n",
      "activity/product/institute/model/experiment/frequency/modeling\n",
      "realm/MIP table/ensemble member/version number/variable name/CMOR\n",
      "filename.nc\n"
     ]
    }
   ],
   "source": [
    "import textwrap\n",
    "\n",
    "value = csw.records[\n",
    "    \"f3187_2606_9930_4751\"\n",
    "]\n",
    "\n",
    "print(\"\\n\".join(textwrap.wrap(value.abstract)))"
   ]
  },
  {
   "cell_type": "markdown",
   "metadata": {},
   "source": [
    "Let's see what attributes each csw object has:"
   ]
  },
  {
   "cell_type": "code",
   "execution_count": 9,
   "metadata": {},
   "outputs": [
    {
     "data": {
      "text/plain": [
       "['abstract',\n",
       " 'identifier',\n",
       " 'identifiers',\n",
       " 'relation',\n",
       " 'subjects',\n",
       " 'title',\n",
       " 'type',\n",
       " 'xml']"
      ]
     },
     "execution_count": 9,
     "metadata": {},
     "output_type": "execute_result"
    }
   ],
   "source": [
    "attrs = [attr for attr in dir(value) if not attr.startswith(\"_\")]\n",
    "nonzero = [attr for attr in attrs if getattr(value, attr)]\n",
    "nonzero"
   ]
  },
  {
   "cell_type": "code",
   "execution_count": 10,
   "metadata": {},
   "outputs": [
    {
     "data": {
      "text/plain": [
       "['Other Chemical Sciences (Environmental Chemistry)',\n",
       " 'Atmospheric Sciences',\n",
       " 'Oceanography',\n",
       " 'Physical Geography and Environmental Geoscience',\n",
       " 'National Computational Infrastructure (NCI)',\n",
       " '0399 - Other Chemical Sciences',\n",
       " '0401 - Atmospheric Sciences',\n",
       " '0405 - Oceanography',\n",
       " '0406 - Physical Geography and Environmental Geoscience',\n",
       " None]"
      ]
     },
     "execution_count": 10,
     "metadata": {},
     "output_type": "execute_result"
    }
   ],
   "source": [
    "value.subjects"
   ]
  },
  {
   "cell_type": "code",
   "execution_count": 11,
   "metadata": {},
   "outputs": [
    {
     "data": {
      "text/plain": [
       "b'<csw:SummaryRecord xmlns:dc=\"http://purl.org/dc/elements/1.1/\" xmlns:geonet=\"http://www.fao.org/geonetwork\" xmlns:dct=\"http://purl.org/dc/terms/\" xmlns:csw=\"http://www.opengis.net/cat/csw/2.0.2\" xmlns:xsi=\"http://www.w3.org/2001/XMLSchema-instance\">\\n      <dc:identifier>f3187_2606_9930_4751</dc:identifier>\\n      <dc:title>ACCESS1-0 model output prepared for CMIP5 historical</dc:title>\\n      <dc:type>dataset</dc:type>\\n      <dc:subject>Other Chemical Sciences (Environmental Chemistry)</dc:subject>\\n      <dc:subject>Atmospheric Sciences</dc:subject>\\n      <dc:subject>Oceanography</dc:subject>\\n      <dc:subject>Physical Geography and Environmental Geoscience</dc:subject>\\n      <dc:subject>National Computational Infrastructure (NCI)</dc:subject>\\n      <dc:subject>0399 - Other Chemical Sciences</dc:subject>\\n      <dc:subject>0401 - Atmospheric Sciences</dc:subject>\\n      <dc:subject>0405 - Oceanography</dc:subject>\\n      <dc:subject>0406 - Physical Geography and Environmental Geoscience</dc:subject>\\n      <dc:subject/>\\n      <dc:format/>\\n      <dc:relation>f7710_6537_7396_4995</dc:relation>\\n      <dct:abstract>historical is an experiment of the CMIP5 - Coupled Model Intercomparison Project Phase 5\\n(http://cmip-pcmdi.llnl.gov/cmip5/). CMIP5 is meant to provide a framework for coordinated\\nclimate change experiments for the next five years and thus includes simulations for\\nassessment in the AR5 as well as others that extend beyond the AR5.\\n\\n3.2 historical (3.2 Historical) - Version 1: Simulation of recent past (1850 to 2005). Impose changing conditions (consistent with observations).\\n\\nExperiment design: http://cmip-pcmdi.llnl.gov/cmip5/docs/Taylor_CMIP5_design.pdf\\nList of output variables: http://cmip-pcmdi.llnl.gov/cmip5/docs/standard_output.pdf\\nOutput: time series per variable in model grid spatial resolution in netCDF format\\nEarth System model and the simulation information: CIM repository\\n\\nEntry name/title of data are specified according to the Data Reference Syntax\\n(http://cmip-pcmdi.llnl.gov/cmip5/docs/cmip5_data_reference_syntax.pdf)\\nas activity/product/institute/model/experiment/frequency/modeling realm/MIP table/ensemble\\nmember/version number/variable name/CMOR filename.nc</dct:abstract>\\n    </csw:SummaryRecord>\\n    '"
      ]
     },
     "execution_count": 11,
     "metadata": {},
     "output_type": "execute_result"
    }
   ],
   "source": [
    "value.xml"
   ]
  }
 ],
 "metadata": {
  "kernelspec": {
   "display_name": "Python 3",
   "language": "python",
   "name": "python3"
  },
  "language_info": {
   "codemirror_mode": {
    "name": "ipython",
    "version": 3
   },
   "file_extension": ".py",
   "mimetype": "text/x-python",
   "name": "python",
   "nbconvert_exporter": "python",
   "pygments_lexer": "ipython3",
   "version": "3.7.3"
  }
 },
 "nbformat": 4,
 "nbformat_minor": 2
}
