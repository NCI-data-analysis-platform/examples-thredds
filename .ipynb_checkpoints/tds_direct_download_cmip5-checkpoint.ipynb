{
 "cells": [
  {
   "cell_type": "markdown",
   "metadata": {},
   "source": [
    "![logo](../../_static/images/NCI_logo.png)\n",
    "\n",
    "\n",
    "-------\n",
    "\n",
    "# THREDDS Data Server: Direct Download\n",
    "\n",
    "\n",
    "\n",
    "### In this notebook:\n",
    "\n",
    "- How to download files through NCI's THREDDS data server\n",
    "\n",
    "\n",
    "The following material uses Coupled Model Intercomparison Project (CMIP5) collections. The CMIP5 terms of use are found [here](https://cmip.llnl.gov/cmip5/terms.html). For more information on the collection, please [click here](https://geonetwork.nci.org.au/geonetwork/srv/eng/catalog.search#/metadata/f3525_9322_8600_7716).\n",
    "\n",
    "-----------\n",
    "\n"
   ]
  },
  {
   "cell_type": "markdown",
   "metadata": {},
   "source": [
    "### Browse for data\n",
    "\n",
    "Begin by going to NCI's Geonetwork page: https://geonetwork.nci.org.au/\n",
    "\n",
    "This page contains the metadata information for NCI Data Collections as well as URLs of data services where you\n",
    "\n",
    "![](images/gn1_cmip5.png)\n",
    "\n",
    "In this example, we will search for CMIP data, the records whose title includes CMIP will pop up immediately:\n",
    "\n",
    "![](images/gn2_cmip5.png)\n",
    "\n",
    "\n",
    "If we click on one of the CMIP dataset, we see a brief overview of the metadata record. **Note:** For the full record, navigate to the upper-right corner of your browser to change to the \"Full view\" (eyeball icon). \n",
    "\n",
    "Now lets click on the NCI THREDDS data server link under **Download and links**:\n",
    "\n",
    "![](images/gn3_cmip5.png)\n",
    "\n",
    "By navigating to this link, the available (public) data subcollections and datasets will be visible:\n",
    "\n",
    "![](images/tds_dd1_cmip5.png)\n",
    "\n",
    "\n",
    "In this example, let's navigate to the ** Monthly sea_surface_temperature in 1pctCO2 ** dataset and click on the file:\n",
    "\n",
    "![](images/tds_dd2_cmip5.png)\n",
    "\n",
    "\n",
    "\n"
   ]
  },
  {
   "cell_type": "markdown",
   "metadata": {},
   "source": [
    "## To access the data we have several options, this example will cover how to download files directly from THREDDS. \n"
   ]
  },
  {
   "cell_type": "markdown",
   "metadata": {},
   "source": [
    "**File download**\n",
    "\n",
    "To download the full file, click the link titled: **HTTPServer** and the download should commence. \n",
    "\n",
    "![](images/tds_dd3_cmip5.png)"
   ]
  }
 ],
 "metadata": {
  "anaconda-cloud": {},
  "kernelspec": {
   "display_name": "Python 3",
   "language": "python",
   "name": "python3"
  },
  "language_info": {
   "codemirror_mode": {
    "name": "ipython",
    "version": 3
   },
   "file_extension": ".py",
   "mimetype": "text/x-python",
   "name": "python",
   "nbconvert_exporter": "python",
   "pygments_lexer": "ipython3",
   "version": "3.7.3"
  }
 },
 "nbformat": 4,
 "nbformat_minor": 1
}
