{
 "cells": [
  {
   "cell_type": "markdown",
   "metadata": {},
   "source": [
    "# Downloading data using netCDF Subset Service (NCSS)\n",
    "\n",
    "\n",
    "This notebook shows ways to list all the data collection, sub-collections, datasets and files from NCI's THREDDS service portal. \n",
    "\n",
    "* NetCDF Subset Service (NCSS)\n",
    "* Use Siphon to make an NCSS request\n",
    "* Plot requested data using CartoPy\n",
    "* NCSS point request \n",
    "* Construct NCSS query through the THREDDS NCSS service end point\n",
    "---\n",
    "- Authors: NCI Virtual Research Environment Team\n",
    "- Keywords: THREDDS, Siphon, NCSS, subset\n",
    "- Create Date: 2020-Jul\n",
    "\n",
    "---\n",
    "This notebook is licenced under the [Creative Commons Attribution 4.0 International license](https://creativecommons.org/licenses/by/4.0/)"
   ]
  },
  {
   "cell_type": "markdown",
   "metadata": {},
   "source": [
    "### THREDDS Netcdf Subset Service (NCSS)\n",
    "\n",
    "The Netcdf Subset Service (NCSS) is one of the data service endpoints available on many of NCI's hosted data collections. NCSS is currently available on NCI's gridded datasets and allows users to request spatial and temporal queries using longitude and latitude values directly."
   ]
  },
  {
   "cell_type": "markdown",
   "metadata": {},
   "source": [
    " The cell below uses Siphon to extract the THREDDS Data Server information of interest:"
   ]
  },
  {
   "cell_type": "code",
   "execution_count": null,
   "metadata": {},
   "outputs": [],
   "source": [
    "from siphon.catalog import TDSCatalog\n",
    "\n",
    "cat = TDSCatalog(\"http://dapds00.nci.org.au/thredds/catalog/fs38/publications/CMIP6/CMIP/CSIRO/ACCESS-ESM1-5/historical/r11i1p1f1/day/pr/gn/latest/catalog.xml\")\n",
    "\n",
    "ncss=cat.datasets[-1].subset()\n",
    "cat.datasets[-1]"
   ]
  },
  {
   "cell_type": "code",
   "execution_count": null,
   "metadata": {},
   "outputs": [],
   "source": [
    "ncss.variables"
   ]
  },
  {
   "cell_type": "markdown",
   "metadata": {},
   "source": [
    "We can build a query to ask for the data we want from the THREDDS server:"
   ]
  },
  {
   "cell_type": "code",
   "execution_count": null,
   "metadata": {},
   "outputs": [],
   "source": [
    "from datetime import date, timedelta\n",
    "\n",
    "# Create a new NCSS query\n",
    "query = ncss.query()\n",
    "\n",
    "# Request data in netCDF format\n",
    "query.accept('netcdf')\n",
    "\n",
    "# Ask for our variable of interest\n",
    "query.variables('pr')\n",
    "\n",
    "# Set the time range of the data we want\n",
    "start = date.fromisoformat('2013-12-31')\n",
    "query.time_range(start, start + timedelta(days=365))\n",
    "\n",
    "# Set the spatial limits - in this case, Australia\n",
    "query.lonlat_box(west=110, east=160, north=-10, south=-50)\n",
    "\n",
    "# get the data!\n",
    "data = ncss.get_data(query)"
   ]
  },
  {
   "cell_type": "markdown",
   "metadata": {},
   "source": [
    "Store the netCDF data:"
   ]
  },
  {
   "cell_type": "code",
   "execution_count": null,
   "metadata": {},
   "outputs": [],
   "source": [
    "from xarray.backends import NetCDF4DataStore\n",
    "import xarray as xr\n",
    "import os\n",
    "\n",
    "### create output directory\n",
    "outdir = './output'\n",
    "if not os.path.exists(outdir):\n",
    "    os.mkdir(outdir)\n",
    "\n",
    "ds = xr.open_dataset(NetCDF4DataStore(data))\n",
    "ds.to_netcdf('./output/NCSS_reqest_data.nc')"
   ]
  },
  {
   "cell_type": "markdown",
   "metadata": {},
   "source": [
    "### Visualisa the data"
   ]
  },
  {
   "cell_type": "code",
   "execution_count": null,
   "metadata": {},
   "outputs": [],
   "source": [
    "var = ds.pr\n",
    "var"
   ]
  },
  {
   "cell_type": "code",
   "execution_count": null,
   "metadata": {},
   "outputs": [],
   "source": [
    "%matplotlib inline\n",
    "import cartopy.crs as ccrs\n",
    "import cartopy.feature as cfeature\n",
    "import matplotlib.pyplot as plt\n",
    "\n",
    "latitude = var.lat\n",
    "longitude = var.lon\n",
    "time_index =0\n",
    "# Plot using CartoPy and Matplotlib\n",
    "fig = plt.figure(figsize=(12, 8))\n",
    "ax = fig.add_subplot(1, 1, 1, projection=ccrs.LambertCylindrical())\n",
    "data_projection = ccrs.PlateCarree()\n",
    "\n",
    "ax.pcolormesh(longitude, latitude, var[time_index].squeeze(),\n",
    "              transform=data_projection, zorder=0)\n",
    "ax.set_title(var.time[time_index].values)\n",
    "\n",
    "# add some common geographic features\n",
    "ax.add_feature(cfeature.COASTLINE)\n",
    "ax.add_feature(cfeature.STATES, edgecolor='black')\n",
    "ax.add_feature(cfeature.BORDERS)\n",
    "\n",
    "# add some lat/lon gridlines\n",
    "ax.gridlines()"
   ]
  },
  {
   "cell_type": "markdown",
   "metadata": {},
   "source": [
    "### NCSS Point request\n",
    "\n",
    "We can also request data for a specfic lon/lat point, across vertical coordinates or times."
   ]
  },
  {
   "cell_type": "code",
   "execution_count": null,
   "metadata": {},
   "outputs": [],
   "source": [
    "point_query = ncss.query()\n",
    "startd = date.fromisoformat('2013-12-31')\n",
    "point_query.time_range(startd, startd + timedelta(days=365))\n",
    "point_query.accept('netcdf')\n",
    "point_query.variables('pr')\n",
    "point_query.lonlat_point(149.13, -35.28)\n",
    "\n",
    "# get the data! \n",
    "point_data = ncss.get_data(point_query)\n",
    "ds = xr.open_dataset(NetCDF4DataStore(point_data))\n",
    "ds.time\n"
   ]
  },
  {
   "cell_type": "code",
   "execution_count": null,
   "metadata": {},
   "outputs": [],
   "source": [
    "import matplotlib\n",
    "import matplotlib.pyplot as plt\n",
    "import numpy as np\n",
    "\n",
    "# Data for plotting\n",
    "t = ds.time\n",
    "p = ds.pr\n",
    "\n",
    "fig, ax = plt.subplots()\n",
    "ax.plot(t, p)\n",
    "\n",
    "ax.set(xlabel='date', ylabel='precipitation',\n",
    "       title='Precipitaion in 2014 at Canberra')\n",
    "ax.grid()\n",
    "\n",
    "plt.show()"
   ]
  },
  {
   "cell_type": "markdown",
   "metadata": {},
   "source": [
    "### NCSS request through the THREDDS weblink\n",
    "\n",
    "Begin by navigating to the THREDDS catalog page for the selected data file (http://dapds00.nci.org.au/thredds/catalog/rr3/CMIP5/output1/CSIRO-BOM/ACCESS1-0/rcp85/mon/atmos/Amon/r1i1p1/latest/tas/catalog.html?dataset=rr3/CMIP5/output1/CSIRO-BOM/ACCESS1-0/rcp85/mon/atmos/Amon/r1i1p1/latest/tas/tas_Amon_ACCESS1-0_rcp85_r1i1p1_200601-210012.nc):\n",
    "\n",
    "![](images/ncss1_cmip5.png)\n",
    "\n",
    "Next, decide whether you want to extract a spatial subset (left/green arrow), defined by a bounding box, or a single point in space (right/pink arrow), defined by a single latitude and longitude:\n",
    "\n",
    "![](images/ncss2_cmip5.png)\n",
    "\n",
    "Then proceed by selecting the desired variables, spatial (or lat/lon point) and temporal extents. As selections are made, the NCSS Request URL (near bottom of the page) will update with these parameters:\n",
    "\n",
    "![](images/ncss3_cmip5.png)\n",
    "\n",
    "Click 'Submit' and the request file should begin to download. Alternatively, the NCSS URL can be copied/pasted into a new web browser or used in workflows along with `wget` or `curl` commands.\n"
   ]
  },
  {
   "cell_type": "markdown",
   "metadata": {},
   "source": [
    "### Summery\n",
    "\n",
    "We demonstrate how to use Siphon to query the subset of a dataset and how to use THREDDS NCSS service to subset data. "
   ]
  }
 ],
 "metadata": {
  "kernelspec": {
   "display_name": "Python 3",
   "language": "python",
   "name": "python3"
  },
  "language_info": {
   "codemirror_mode": {
    "name": "ipython",
    "version": 3
   },
   "file_extension": ".py",
   "mimetype": "text/x-python",
   "name": "python",
   "nbconvert_exporter": "python",
   "pygments_lexer": "ipython3",
   "version": "3.9.2"
  }
 },
 "nbformat": 4,
 "nbformat_minor": 4
}
